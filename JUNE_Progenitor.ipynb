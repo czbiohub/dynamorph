{
 "cells": [
  {
   "cell_type": "code",
   "execution_count": 1,
   "metadata": {},
   "outputs": [],
   "source": [
    "import numpy as np\n",
    "import pandas as pd\n",
    "import pickle\n",
    "import os\n",
    "import cv2\n",
    "import imageio\n",
    "import matplotlib\n",
    "import matplotlib.pyplot as plt\n",
    "from matplotlib.colors import ListedColormap\n",
    "import seaborn as sns\n",
    "import torch\n",
    "from torch.utils.data import TensorDataset\n",
    "import cmath\n",
    "from run_VAE import sites_NOVEMBER, RAW_NOVEMBER, INTERMEDIATE_NOVEMBER\n",
    "from HiddenStateExtractor.cv2_feature import get_density, get_angle_apr, get_aspect_ratio_no_rotation\n",
    "from HiddenStateExtractor.vq_vae import VQ_VAE, rescale\n",
    "from SingleCellPatch.extract_patches import select_window, generate_mask\n",
    "plt.switch_backend('module://ipykernel.pylab.backend_inline')"
   ]
  },
  {
   "cell_type": "code",
   "execution_count": 2,
   "metadata": {},
   "outputs": [],
   "source": [
    "DATA_PATH = '/gpfs/CompMicro/Projects/learningCellState/microglia/data_processed'\n",
    "sites = sum([['D%d-Site_%d' % (i, j) for j in range(9)] for i in range(3, 6)], [])"
   ]
  },
  {
   "cell_type": "code",
   "execution_count": 4,
   "metadata": {},
   "outputs": [
    {
     "name": "stdout",
     "output_type": "stream",
     "text": [
      "total 4.2G\r\n",
      "-rw-r--r--  1 michaelwu compmicrousers 2.0G Aug 18 06:16 JUNE_nonmg_trajs.pkl\r\n",
      "drwxr-xr-x 14 michaelwu compmicrousers  64K Aug 18 06:16 \u001b[0m\u001b[01;34m.\u001b[0m/\r\n",
      "drwxrwxr-x  8 michaelwu compmicrousers 4.0K Aug 18 06:15 \u001b[01;34m.git\u001b[0m/\r\n",
      "-rw-r--r--  1 michaelwu compmicrousers 152K Aug 18 06:15 NOVEMBER_Progenitor.ipynb\r\n",
      "-rw-r--r--  1 michaelwu compmicrousers  31K Aug 18 06:15 JUNE_Progenitor.ipynb\r\n",
      "-rw-r--r--  1 michaelwu compmicrousers   12 Aug 18 06:10 README.md\r\n",
      "drwxr-xr-x  3 michaelwu compmicrousers 4.0K Jul 17 08:39 \u001b[01;34mplot_scripts\u001b[0m/\r\n",
      "-rw-r--r--  1 michaelwu compmicrousers 166K Jul 17 08:39 \u001b[01;35msupp_fig3_rPC1_upper_sample7.png\u001b[0m\r\n",
      "-rw-r--r--  1 michaelwu compmicrousers 332K Jul 17 08:39 \u001b[01;35msupp_fig3_rPC1_upper_sample13.png\u001b[0m\r\n",
      "ls: write error\r\n"
     ]
    }
   ],
   "source": [
    "ls -alth | head -n 10"
   ]
  },
  {
   "cell_type": "code",
   "execution_count": 5,
   "metadata": {},
   "outputs": [],
   "source": [
    "# window_size = 256\n",
    "# traj_dats = {}\n",
    "# for site in sites:\n",
    "#     print(site)\n",
    "#     image_stack = np.load(os.path.join(DATA_PATH, '%s.npy' % site))\n",
    "#     segmentation_stack = np.load(os.path.join(DATA_PATH, '%s_NNProbabilities.npy' % site))\n",
    "#     cell_pixel_assignments = pickle.load(open(os.path.join(DATA_PATH, 'D-supps', site, 'cell_pixel_assignments.pkl'), 'rb'))\n",
    "#     cell_positions = pickle.load(open(os.path.join(DATA_PATH, 'D-supps', site, 'cell_positions.pkl'), 'rb'))\n",
    "#     nonmg_traj = pickle.load(open(os.path.join(DATA_PATH, 'D-supps', site, 'non_mg_traj.pkl'), 'rb'))\n",
    "    \n",
    "#     selected_patches = {t_point: [] for t_point in range(image_stack.shape[0])}\n",
    "#     for i, (traj, traj_position) in enumerate(zip(*nonmg_traj)):\n",
    "#         assert traj.keys() == traj_position.keys()\n",
    "#         for t_point in traj:\n",
    "#             selected_patches[t_point].append((traj[t_point], traj_position[t_point]))\n",
    "    \n",
    "    \n",
    "#     selected_patch_dats = {t_point: {} for t_point in range(image_stack.shape[0])}\n",
    "#     for t_point in sorted(selected_patches.keys()):\n",
    "#         print(t_point)\n",
    "#         if len(selected_patches[t_point]) == 0:\n",
    "#             continue\n",
    "#         raw_image = image_stack[t_point]\n",
    "#         cell_segmentation = segmentation_stack[t_point]\n",
    "\n",
    "#         positions, positions_labels = cell_pixel_assignments[t_point]\n",
    "#         mg_cells, non_mg_cells, other_cells = cell_positions[t_point]\n",
    "\n",
    "#         # Define fillings for the masked pixels in this slice\n",
    "#         background_pool = raw_image[np.where(cell_segmentation[:, :, 0] > 0.9)]\n",
    "#         background_pool = np.median(background_pool, 0)\n",
    "#         background_filling = np.ones((window_size, window_size, 1)) * background_pool.reshape((1, 1, -1))\n",
    "\n",
    "#         for cell_id, cell_position in selected_patches[t_point]:\n",
    "#             window = [(cell_position[0]-window_size//2, cell_position[0]+window_size//2),\n",
    "#                       (cell_position[1]-window_size//2, cell_position[1]+window_size//2)]\n",
    "#             window_segmentation = select_window(cell_segmentation, window, padding=-1)\n",
    "#             remove_mask, tm, tm2 = generate_mask(positions, \n",
    "#                                                  positions_labels, \n",
    "#                                                  cell_id, \n",
    "#                                                  window, \n",
    "#                                                  window_segmentation)\n",
    "\n",
    "#             output_mat = select_window(raw_image, window, padding=0)\n",
    "#             masked_output_mat = output_mat * (1 - remove_mask) + background_filling * remove_mask\n",
    "#             selected_patch_dats[t_point][cell_id] = masked_output_mat\n",
    "            \n",
    "#     for i, (traj, traj_position) in enumerate(zip(*nonmg_traj)):\n",
    "#         name = site + '/' + str(i) + '_nonmg'\n",
    "#         print(name)\n",
    "#         traj_patches = {}\n",
    "#         for t_point in traj:\n",
    "#             traj_patches[t_point] = selected_patch_dats[t_point][traj[t_point]]\n",
    "#         traj_dats[name] = traj_patches\n",
    "        \n",
    "#     with open('JUNE_nonmg_trajs.pkl', 'wb') as f:\n",
    "#         pickle.dump(traj_dats, f)\n",
    "traj_dats = pickle.load(open('JUNE_nonmg_trajs.pkl', 'rb'))"
   ]
  },
  {
   "cell_type": "code",
   "execution_count": 6,
   "metadata": {},
   "outputs": [],
   "source": [
    "traj_motions = {}\n",
    "for site in sites: \n",
    "    nonmg_traj = pickle.load(open(os.path.join(DATA_PATH, 'D-supps', site, 'non_mg_traj.pkl'), 'rb'))\n",
    "    for i, (traj, traj_position) in enumerate(zip(*nonmg_traj)):\n",
    "        name = site + '/' + str(i) + '_nonmg'\n",
    "        traj_motions[name] = traj_position"
   ]
  },
  {
   "cell_type": "code",
   "execution_count": null,
   "metadata": {},
   "outputs": [],
   "source": []
  },
  {
   "cell_type": "code",
   "execution_count": null,
   "metadata": {},
   "outputs": [],
   "source": []
  },
  {
   "cell_type": "code",
   "execution_count": 7,
   "metadata": {},
   "outputs": [
    {
     "name": "stdout",
     "output_type": "stream",
     "text": [
      "tensor(0.4984)\n",
      "tensor(0.0237)\n",
      "tensor(0.0267)\n",
      "tensor(0.0234)\n"
     ]
    }
   ],
   "source": [
    "tensors = {}\n",
    "for t, traj_dat in traj_dats.items():\n",
    "    for t_point in traj_dat:\n",
    "        _d = traj_dat[t_point]\n",
    "        stacks = []\n",
    "        for c in range(2):\n",
    "            c_slice = cv2.resize(np.array(_d[:, :, c]).astype(float), (128, 128))\n",
    "            stacks.append(c_slice/65535.)\n",
    "        tensors[(t, t_point)] = torch.from_numpy(np.stack(stacks, 0)).float()\n",
    "fs = sorted(tensors.keys())\n",
    "dataset = TensorDataset(torch.stack([tensors[f_n] for f_n in fs], 0))\n",
    "\n",
    "phase_slice = dataset.tensors[0][:, 0]\n",
    "print(phase_slice.mean())\n",
    "print(phase_slice.std())\n",
    "phase_slice = ((phase_slice - phase_slice.mean()) / phase_slice.std()) * 0.0257 + 0.4980\n",
    "retard_slice = dataset.tensors[0][:, 1]\n",
    "print(retard_slice.mean())\n",
    "print(retard_slice.std())\n",
    "retard_slice = retard_slice / retard_slice.mean() * 0.0285\n",
    "adjusted_dataset = TensorDataset(torch.stack([phase_slice, retard_slice], 1))\n",
    "\n",
    "adjusted_dataset = rescale(adjusted_dataset)"
   ]
  },
  {
   "cell_type": "code",
   "execution_count": 29,
   "metadata": {},
   "outputs": [
    {
     "name": "stderr",
     "output_type": "stream",
     "text": [
      "/data_sm/home/michaelwu/anaconda3/envs/p3/lib/python3.6/site-packages/sklearn/base.py:311: UserWarning: Trying to unpickle estimator PCA from version 0.20.1 when using version 0.19.1. This might lead to breaking code or invalid results. Use at your own risk.\n",
      "  UserWarning)\n"
     ]
    }
   ],
   "source": [
    "model = VQ_VAE(alpha=0.0005, gpu=True)\n",
    "model = model.cuda()\n",
    "model.load_state_dict(torch.load('HiddenStateExtractor/save_0005_bkp4.pt'))\n",
    "\n",
    "z_bs = {}\n",
    "for i in range(len(dataset)):\n",
    "    sample = dataset[i:(i+1)][0].cuda()\n",
    "    z_b = model.enc(sample)\n",
    "    f_n = fs[i]\n",
    "    z_bs[f_n] = z_b.cpu().data.numpy()\n",
    "\n",
    "dats = np.stack([z_bs[f] for f in fs], 0).reshape((len(dataset), -1))\n",
    "pca = pickle.load(open('HiddenStateExtractor/pca_save.pkl', 'rb'))\n",
    "dats_ = pca.transform(dats)\n",
    "\n",
    "with open('JUNE_nonmg_traj_fs.pkl', 'wb') as f:\n",
    "    pickle.dump(fs, f)\n",
    "with open('JUNE_nonmg_traj_dats.pkl', 'wb') as f:\n",
    "    pickle.dump(dats, f)\n",
    "with open('JUNE_nonmg_traj_dats_pcaed.pkl', 'wb') as f:\n",
    "    pickle.dump(dats_, f)"
   ]
  },
  {
   "cell_type": "code",
   "execution_count": null,
   "metadata": {},
   "outputs": [],
   "source": []
  },
  {
   "cell_type": "code",
   "execution_count": 24,
   "metadata": {},
   "outputs": [],
   "source": [
    "bins_PC1 = np.linspace(-4, 6, 20)\n",
    "bins_PC2 = np.linspace(-3, 8, 20)\n",
    "bins_speed = np.linspace(1.0, 5.2, 20) # Log um/h scale\n",
    "\n",
    "traj_PC1 = {}\n",
    "traj_PC2 = {}\n",
    "for f, d in zip(fs, dats_):\n",
    "    if not f[0] in traj_PC1:\n",
    "        traj_PC1[f[0]] = []\n",
    "        traj_PC2[f[0]] = []\n",
    "    traj_PC1[f[0]].append(d[0])\n",
    "    traj_PC2[f[0]].append(d[1])\n",
    "\n",
    "traj_PC1 = [np.mean(traj_PC1[k]) for k in traj_PC1]\n",
    "traj_PC2 = [np.mean(traj_PC2[k]) for k in traj_PC2]\n",
    "\n",
    "\n",
    "traj_speed = {}\n",
    "t_lag = 1\n",
    "for t, motion in traj_motions.items():\n",
    "    dists = []\n",
    "    t_keys = sorted(motion.keys())\n",
    "    for t_point in t_keys:\n",
    "        if (t_point + t_lag) in t_keys:\n",
    "            d = np.linalg.norm(motion[t_point+t_lag] - \\\n",
    "                               motion[t_point], ord=2)\n",
    "            dists.append(d)    \n",
    "    traj_speed[t] = np.log(np.mean(dists) * 0.325 / 0.1518)"
   ]
  },
  {
   "cell_type": "code",
   "execution_count": 25,
   "metadata": {},
   "outputs": [
    {
     "data": {
      "text/plain": [
       "<Figure size 432x288 with 0 Axes>"
      ]
     },
     "metadata": {},
     "output_type": "display_data"
    },
    {
     "data": {
      "image/png": "[encoded data removed]",
      "text/plain": [
       "<Figure size 324x216 with 1 Axes>"
      ]
     },
     "metadata": {
      "needs_background": "light"
     },
     "output_type": "display_data"
    }
   ],
   "source": [
    "plt.clf()\n",
    "f = plt.figure(figsize=(4.5, 3))\n",
    "freqs, bins = np.histogram(traj_PC1, bins=bins_PC1)\n",
    "freqs = freqs/freqs.sum()\n",
    "x = (bins[:-1] + bins[1:])/2\n",
    "plt.plot(x, freqs)\n",
    "plt.xlabel(\"\")\n",
    "plt.ylabel(\"\")\n",
    "plt.grid(b=False, which='major', axis='x')\n",
    "plt.tight_layout()\n"
   ]
  },
  {
   "cell_type": "code",
   "execution_count": 26,
   "metadata": {},
   "outputs": [
    {
     "data": {
      "text/plain": [
       "<Figure size 432x288 with 0 Axes>"
      ]
     },
     "metadata": {},
     "output_type": "display_data"
    },
    {
     "data": {
      "image/png": "[encoded data removed]",
      "text/plain": [
       "<Figure size 324x216 with 1 Axes>"
      ]
     },
     "metadata": {
      "needs_background": "light"
     },
     "output_type": "display_data"
    }
   ],
   "source": [
    "plt.clf()\n",
    "f = plt.figure(figsize=(4.5, 3))\n",
    "freqs, bins = np.histogram(traj_PC2, bins=bins_PC2)\n",
    "freqs = freqs/freqs.sum()\n",
    "x = (bins[:-1] + bins[1:])/2\n",
    "plt.plot(x, freqs)\n",
    "plt.xlabel(\"\")\n",
    "plt.ylabel(\"\")\n",
    "plt.grid(b=False, which='major', axis='x')\n",
    "plt.tight_layout()\n"
   ]
  },
  {
   "cell_type": "code",
   "execution_count": 28,
   "metadata": {},
   "outputs": [
    {
     "data": {
      "text/plain": [
       "<Figure size 432x288 with 0 Axes>"
      ]
     },
     "metadata": {},
     "output_type": "display_data"
    },
    {
     "data": {
      "image/png": "[encoded data removed]",
      "text/plain": [
       "<Figure size 324x216 with 1 Axes>"
      ]
     },
     "metadata": {
      "needs_background": "light"
     },
     "output_type": "display_data"
    }
   ],
   "source": [
    "plt.clf()\n",
    "f = plt.figure(figsize=(4.5, 3))\n",
    "freqs, bins = np.histogram(list(traj_speed.values()), bins=bins_speed)\n",
    "freqs = freqs/freqs.sum()\n",
    "x = (bins[:-1] + bins[1:])/2\n",
    "plt.plot(x, freqs)\n",
    "plt.xlabel(\"\")\n",
    "plt.ylabel(\"\")\n",
    "plt.grid(b=False, which='major', axis='x')\n",
    "speed_ticks = [4., 8., 16., 32., 64., 128.]\n",
    "plt.gca().set_xticks(np.log(speed_ticks))\n",
    "plt.gca().set_xticklabels(speed_ticks)\n",
    "plt.tight_layout()"
   ]
  },
  {
   "cell_type": "code",
   "execution_count": null,
   "metadata": {},
   "outputs": [],
   "source": []
  }
 ],
 "metadata": {
  "kernelspec": {
   "display_name": "Python 3",
   "language": "python",
   "name": "python3"
  },
  "language_info": {
   "codemirror_mode": {
    "name": "ipython",
    "version": 3
   },
   "file_extension": ".py",
   "mimetype": "text/x-python",
   "name": "python",
   "nbconvert_exporter": "python",
   "pygments_lexer": "ipython3",
   "version": "3.6.10"
  }
 },
 "nbformat": 4,
 "nbformat_minor": 4
}
