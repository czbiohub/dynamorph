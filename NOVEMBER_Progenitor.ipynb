{
 "cells": [
  {
   "cell_type": "code",
   "execution_count": 28,
   "metadata": {},
   "outputs": [],
   "source": [
    "import numpy as np\n",
    "import pandas as pd\n",
    "import pickle\n",
    "import os\n",
    "import cv2\n",
    "import imageio\n",
    "import matplotlib\n",
    "import matplotlib.pyplot as plt\n",
    "from matplotlib.colors import ListedColormap\n",
    "import seaborn as sns\n",
    "import torch\n",
    "import cmath\n",
    "from sklearn.decomposition import PCA\n",
    "from run_VAE import sites_NOVEMBER, RAW_NOVEMBER, INTERMEDIATE_NOVEMBER\n",
    "from HiddenStateExtractor.cv2_feature import get_density, get_angle_apr, get_aspect_ratio_no_rotation\n",
    "from HiddenStateExtractor.vq_vae import VQ_VAE, rescale\n",
    "plt.switch_backend('module://ipykernel.pylab.backend_inline')"
   ]
  },
  {
   "cell_type": "code",
   "execution_count": 29,
   "metadata": {},
   "outputs": [],
   "source": [
    "sites = sites_NOVEMBER\n",
    "RAW_NOVEMBER = '/mnt/comp_micro/Projects/learningCellState/microglia/raw_for_segmentation/NOVEMBER/raw'\n",
    "INTERMEDIATE_NOVEMBER = '/mnt/comp_micro/Projects/learningCellState/microglia/raw_for_segmentation/NOVEMBER/supp'\n",
    "wells = {'B4', 'B5', 'B2', 'C5', 'C4'}\n",
    "wells_ = {'B4', 'B5', 'B2', 'C5'}\n",
    "raw_folder = RAW_NOVEMBER\n",
    "supp_folder = INTERMEDIATE_NOVEMBER\n",
    "\n",
    "JUNE_sites = sum([['D%d-Site_%d' % (i, j) for j in range(9)] for i in range(3, 6)], [])\n",
    "JUNE_DATA_PATH = '/mnt/comp_micro/Projects/learningCellState/microglia/data_processed'"
   ]
  },
  {
   "cell_type": "code",
   "execution_count": null,
   "metadata": {},
   "outputs": [],
   "source": []
  },
  {
   "cell_type": "code",
   "execution_count": null,
   "metadata": {},
   "outputs": [
    {
     "name": "stdout",
     "output_type": "stream",
     "text": [
      "B5-Site_1\n"
     ]
    }
   ],
   "source": [
    "### Load All Data ###\n",
    "dats = {}\n",
    "fs = {}\n",
    "traj_inds = {}\n",
    "trajs = {}\n",
    "traj_positions = {}\n",
    "traj_mg_ratios = {}\n",
    "for well in wells:\n",
    "    path = os.path.join(raw_folder, '%s_latent_space_PCAed.pkl' % well)\n",
    "    dats[well] = pickle.load(open(path, 'rb'))\n",
    "    \n",
    "    path = os.path.join(raw_folder, '%s_file_paths.pkl' % well)\n",
    "    fs[well] = pickle.load(open(path, 'rb'))\n",
    "\n",
    "    well_sites = [s for s in sites if s.startswith(well)]\n",
    "    for site in well_sites:\n",
    "        print(site)\n",
    "        path = os.path.join(supp_folder, '%s-supps' % well, '%s' % site, 'cell_traj.pkl')\n",
    "        cell_trajectories_inds, cell_trajectories_positions = pickle.load(open(path, 'rb'))\n",
    "\n",
    "        path = os.path.join(supp_folder, '%s-supps' % well, '%s' % site, 'cell_pixel_assignments.pkl')\n",
    "        cell_pixel_assignments = pickle.load(open(path, 'rb'))\n",
    "\n",
    "        path = os.path.join(raw_folder, '%s_NNProbabilities.npy' % site)\n",
    "        segmentation_stack = np.load(path)\n",
    "\n",
    "        for i, (t, t_pos) in enumerate(zip(cell_trajectories_inds, cell_trajectories_positions)):\n",
    "            ratios = []\n",
    "            for t_point in t:\n",
    "                cell_id = t[t_point]\n",
    "                inds = np.where(cell_pixel_assignments[t_point][1] == cell_id)\n",
    "                cell_pixels = cell_pixel_assignments[t_point][0][inds]\n",
    "                cell_segmentation = segmentation_stack[t_point][(cell_pixels[:, 0], cell_pixels[:, 1])]\n",
    "                mg_ratio = (cell_segmentation[:, 1] > 0.5).sum() / cell_segmentation.shape[0]\n",
    "                ratios.append(mg_ratio)            \n",
    "\n",
    "            trajs[site + '/%d' % i] = t\n",
    "            traj_positions[site + '/%d' % i] = t_pos\n",
    "            traj_mg_ratios[site + '/%d' % i] = ratios\n",
    "    path = os.path.join(raw_folder, '%s_trajectories.pkl' % well)\n",
    "    well_traj_inds = pickle.load(open(path, 'rb'))\n",
    "    traj_inds.update({k: v for k, v in well_traj_inds.items() if k in trajs})"
   ]
  },
  {
   "cell_type": "code",
   "execution_count": null,
   "metadata": {
    "scrolled": true
   },
   "outputs": [],
   "source": [
    "_trajs = {}\n",
    "_traj_positions = {}\n",
    "_traj_inds = {}\n",
    "for t_name, ratios in traj_mg_ratios.items():\n",
    "    well = t_name[:2]\n",
    "    if not well in wells_:\n",
    "        continue\n",
    "    if np.percentile(ratios, 50) < 0.5:        \n",
    "        for start in range(len(ratios)):\n",
    "            if ratios[start] < 0.2:\n",
    "                break\n",
    "        for end in range(len(ratios)-1, 0, -1):\n",
    "            if ratios[end] < 0.2:\n",
    "                break\n",
    "        print(\"%d\\t%d\" % (start, end))\n",
    "        \n",
    "        if end - start < 10:\n",
    "            continue\n",
    "        t_points = sorted(trajs[t_name].keys())\n",
    "        valid_t_points = t_points[start:(end+1)]\n",
    "        _trajs[t_name] = {k: v for k,v in trajs[t_name].items() if k in valid_t_points}\n",
    "        _traj_positions[t_name] = {k: v for k,v in traj_positions[t_name].items() if k in valid_t_points}\n",
    "        _traj_inds[t_name] = traj_inds[t_name][start:(end+1)]\n",
    "        assert len(_traj_inds[t_name]) == len(_trajs[t_name])\n",
    "\n",
    "# with open('NOVEMBER_dat_nonmg_save.pkl', 'wb') as f:\n",
    "#     pickle.dump([None, None, _traj_inds, _trajs, _traj_positions], f)"
   ]
  },
  {
   "cell_type": "code",
   "execution_count": null,
   "metadata": {},
   "outputs": [],
   "source": []
  },
  {
   "cell_type": "code",
   "execution_count": 3,
   "metadata": {},
   "outputs": [],
   "source": [
    "# Load NOVEMBER progenitor cell data\n",
    "dats, fs, mg_traj_inds, mg_trajs, mg_traj_positions = pickle.load(open('NOVEMBER_dat_save.pkl', 'rb'))\n",
    "_, _, traj_inds, trajs, traj_positions = pickle.load(open('NOVEMBER_dat_nonmg_save.pkl', 'rb'))"
   ]
  },
  {
   "cell_type": "code",
   "execution_count": 5,
   "metadata": {},
   "outputs": [],
   "source": [
    "selected_ts = [t for t in traj_inds if len(traj_inds[t]) > 10]\n",
    "traj_inds = {k:v for k,v in traj_inds.items() if k in selected_ts}\n",
    "trajs = {k:v for k,v in trajs.items() if k in selected_ts}\n",
    "traj_positions = {k:v for k,v in traj_positions.items() if k in selected_ts}"
   ]
  },
  {
   "cell_type": "code",
   "execution_count": null,
   "metadata": {},
   "outputs": [],
   "source": []
  },
  {
   "cell_type": "code",
   "execution_count": 6,
   "metadata": {},
   "outputs": [],
   "source": [
    "# Load JUNE progenitor cell data\n",
    "june_dats_ = pickle.load(open('JUNE_nonmg_traj_dats_pcaed.pkl', 'rb'))\n",
    "june_fs = pickle.load(open('JUNE_nonmg_traj_fs.pkl', 'rb'))\n",
    "JUNE_progenitor_dats = pickle.load(open('JUNE_nonmg_traj_dats.pkl', 'rb'))"
   ]
  },
  {
   "cell_type": "code",
   "execution_count": null,
   "metadata": {},
   "outputs": [],
   "source": []
  },
  {
   "cell_type": "code",
   "execution_count": null,
   "metadata": {},
   "outputs": [],
   "source": []
  },
  {
   "cell_type": "code",
   "execution_count": null,
   "metadata": {},
   "outputs": [],
   "source": [
    "### Load All RAW Data ###\n",
    "all_patches = {}\n",
    "for well in wells:\n",
    "    print(well)\n",
    "    site_dat = torch.load(os.path.join(raw_folder, '%s_adjusted_static_patches.pt' % well))\n",
    "    site_dat = rescale(site_dat)\n",
    "    for i, f in enumerate(fs[well]):\n",
    "        all_patches[f] = site_dat[i:(i+1)][0]\n",
    "\n",
    "dats_full = {}\n",
    "for well in wells:\n",
    "    path = os.path.join(raw_folder, '%s_latent_space.pkl' % well)\n",
    "    dats_full[well] = pickle.load(open(path, 'rb'))\n",
    "\n",
    "june_patches = torch.load('JUNE_nonmg_trajs.pt')"
   ]
  },
  {
   "cell_type": "code",
   "execution_count": null,
   "metadata": {},
   "outputs": [],
   "source": [
    "# Load NOVEMBER+JUNE progenitor cell data (before PCA)\n",
    "progenitor_dats = []\n",
    "progenitor_names = []\n",
    "for t, inds in traj_inds.items():\n",
    "    well = t[:2]\n",
    "    for i in inds:\n",
    "        progenitor_dats.append(dats_full[well][i])\n",
    "        progenitor_names.append(fs[well][i])"
   ]
  },
  {
   "cell_type": "code",
   "execution_count": null,
   "metadata": {},
   "outputs": [],
   "source": [
    "NOVEMBER_progenitor_dats = np.stack(progenitor_dats, 0)\n",
    "NOVEMBER_progenitor_names = progenitor_names\n",
    "pca = PCA(5)\n",
    "NOVEMBER_progenitor_dats_pcaed = pca.fit_transform(NOVEMBER_progenitor_dats)\n",
    "for pc in range(5):\n",
    "    for i in range(5):\n",
    "        inds = np.where((NOVEMBER_progenitor_dats_pcaed[:, pc] > np.percentile(NOVEMBER_progenitor_dats_pcaed[:, pc], i*20)) &\n",
    "                        (NOVEMBER_progenitor_dats_pcaed[:, pc] < np.percentile(NOVEMBER_progenitor_dats_pcaed[:, pc], (i+1)*20)))[0]\n",
    "        fs_of_interest = [NOVEMBER_progenitor_names[i] for i in inds]\n",
    "        patches_of_interest = [all_patches[f][0, 0] for f in fs_of_interest]\n",
    "        patch_averaged = np.stack(patches_of_interest, 0).mean(0)\n",
    "        plt.clf()\n",
    "        plt.imshow(patch_averaged, vmin=0.4, vmax=0.8)\n",
    "        plt.savefig(\"temp/NOVEMBER_PC%d_Q%d.png\" % (pc+1, i), dpi=300)"
   ]
  },
  {
   "cell_type": "code",
   "execution_count": null,
   "metadata": {},
   "outputs": [],
   "source": []
  },
  {
   "cell_type": "code",
   "execution_count": null,
   "metadata": {},
   "outputs": [],
   "source": []
  },
  {
   "cell_type": "code",
   "execution_count": null,
   "metadata": {},
   "outputs": [],
   "source": [
    "# NJ_progenitor_dats = np.concatenate([NOVEMBER_progenitor_dats, JUNE_progenitor_dats], 0)\n",
    "# NJ_progenitor_names = NOVEMBER_progenitor_names + june_fs\n",
    "# pca2 = PCA(5)\n",
    "# NJ_progenitor_dats_pcaed = pca2.fit_transform(NJ_progenitor_dats)\n",
    "# colors = [(1, 0, 0)] * len(NOVEMBER_progenitor_names) + [(0, 0, 1)] * len(june_fs)\n",
    "# for pc in range(5):\n",
    "#     for i in range(5):\n",
    "#         inds = np.where((NJ_progenitor_dats_pcaed[:, pc] > np.percentile(NJ_progenitor_dats_pcaed[:, pc], i*20)) &\n",
    "#                         (NJ_progenitor_dats_pcaed[:, pc] < np.percentile(NJ_progenitor_dats_pcaed[:, pc], (i+1)*20)))[0]\n",
    "#         fs_of_interest = [NJ_progenitor_names[i] for i in inds]\n",
    "#         patches_of_interest = [all_patches[f][0, 0] if isinstance(f, str) else \n",
    "#                                june_patches[june_fs.index(f)][0][0] for f in fs_of_interest]\n",
    "#         patch_averaged = np.stack(patches_of_interest, 0).mean(0)\n",
    "#         plt.clf()\n",
    "#         plt.imshow(patch_averaged, vmin=0.4, vmax=0.8)\n",
    "#         plt.savefig(\"temp/NJ_PC%d_Q%d.png\" % (pc+1, i), dpi=300)"
   ]
  },
  {
   "cell_type": "code",
   "execution_count": null,
   "metadata": {},
   "outputs": [],
   "source": []
  },
  {
   "cell_type": "code",
   "execution_count": null,
   "metadata": {},
   "outputs": [],
   "source": []
  },
  {
   "cell_type": "code",
   "execution_count": 7,
   "metadata": {},
   "outputs": [],
   "source": [
    "### Define Extra Functions ###\n",
    "phase_a = 2.\n",
    "phase_b = -50000.\n",
    "\n",
    "legends = {\n",
    "    'B2': 'GBM',\n",
    "    'B4': 'IL17',\n",
    "    'B5': 'IFN beta',\n",
    "    'C4': 'Rubella',\n",
    "    'C5': 'Control'\n",
    "}\n",
    "\n",
    "def hex_to_rgb(s):\n",
    "    s = s.lstrip('#')\n",
    "    s = list(int(s[i:i+2], 16)/256. for i in (0, 2, 4)) + [1.] # hex to rgb\n",
    "    return s\n",
    "\n",
    "def rgb_to_hex(rgb):\n",
    "    return '#%02x%02x%02x' % rgb\n",
    "\n",
    "def generate_color_vectors(start, end, N=256):\n",
    "    start = hex_to_rgb(start)\n",
    "    end = hex_to_rgb(end)\n",
    "    output = np.zeros((N, 4))\n",
    "    for i in range(4):\n",
    "        output[:, i] = np.linspace(start[i], end[i], N)\n",
    "    return output\n",
    "\n",
    "cmaps = {\n",
    "    'B2': ListedColormap(generate_color_vectors('#ffffff', '#438548')),\n",
    "    'B4': ListedColormap(generate_color_vectors('#ffffff', '#ce103d')),\n",
    "    'B5': ListedColormap(generate_color_vectors('#ffffff', '#d44d00')),\n",
    "    'C4': ListedColormap(generate_color_vectors('#ffffff', '#f0ba00')),\n",
    "    'C5': ListedColormap(generate_color_vectors('#ffffff', '#005082')),\n",
    "    'all': ListedColormap(generate_color_vectors('#ffffff', '#111111'))\n",
    "}\n",
    "\n",
    "colors = {w: cmaps[w](0.8) for w in cmaps}\n",
    "\n",
    "def enhance_contrast(mat, a=1.5, b=-10000):\n",
    "  mat2 = cv2.addWeighted(mat, a, mat, 0, b)\n",
    "  return mat2\n",
    "\n",
    "def save_movie(traj, path):\n",
    "  well = traj[:2]\n",
    "  site = traj.split('/')[0]\n",
    "  stacks = []\n",
    "  for ind in traj_inds[traj]:\n",
    "    f = fs[well][ind]\n",
    "    p = os.path.join(supp_folder, '%s-supps' % well, '%s' % site, 'stacks_%s.pkl' % f.split('/')[-1].split('_')[0])\n",
    "    mat = pickle.load(open(p, 'rb'))[f]['mat'][:, :, 0]\n",
    "    mat2 = np.clip(enhance_contrast(mat, phase_a, phase_b), 0, 65535).astype('uint16')\n",
    "    stacks.append(mat2)\n",
    "  output = (np.stack(stacks, 0).astype('float')/256).astype('uint8')\n",
    "  imageio.mimsave(path, output)\n",
    "\n",
    "def save_traj_bbox(traj, path):\n",
    "  output_images = np.zeros((len(traj_inds[traj]), 512, 512))\n",
    "  site = traj.split('/')[0]\n",
    "  image_stack = np.load(os.path.join(raw_folder, '%s.npy' % site))\n",
    "  for i, k in enumerate(sorted(trajs[traj].keys())):\n",
    "    mat = cv2.resize(image_stack[k, :, :, 0], (512, 512))\n",
    "    output_images[i] = np.clip(enhance_contrast(mat, phase_a, phase_b), 0, 65535).astype('uint16')\n",
    "\n",
    "  output_images = np.stack([output_images] * 3, 3)\n",
    "  output_images = output_images / 65535.\n",
    "\n",
    "  for i, k in enumerate(sorted(trajs[traj].keys())):\n",
    "    box_center = traj_positions[traj][k] / (2048/512)\n",
    "    box_range = [(max(box_center[0] - 16., 0), min(box_center[0] + 16., 512)),\n",
    "                 (max(box_center[1] - 16., 0), min(box_center[1] + 16., 512))]\n",
    "    \n",
    "    # Left edge\n",
    "    x = box_range[0][0]\n",
    "    x_ = (int(max(x - 1., 0)), int(min(x + 1., 512)))\n",
    "    output_images[i, x_[0]:x_[1], int(box_range[1][0]):int(box_range[1][1])] = np.array([1., 0., 0.]).reshape((1, 1, 3))\n",
    "    # Right edge\n",
    "    x = box_range[0][1]\n",
    "    x_ = (int(max(x - 1., 0)), int(min(x + 1., 512)))\n",
    "    output_images[i, x_[0]:x_[1], int(box_range[1][0]):int(box_range[1][1])] = np.array([1., 0., 0.]).reshape((1, 1, 3))\n",
    "    # Top edge\n",
    "    y = box_range[1][0]\n",
    "    y_ = (int(max(y - 1., 0)), int(min(y + 1., 512)))\n",
    "    output_images[i, int(box_range[0][0]):int(box_range[0][1]), y_[0]:y_[1]] = np.array([1., 0., 0.]).reshape((1, 1, 3))\n",
    "    # Bottom edge\n",
    "    y = box_range[1][1]\n",
    "    y_ = (int(max(y - 1., 0)), int(min(y + 1., 512)))\n",
    "    output_images[i, int(box_range[0][0]):int(box_range[0][1]), y_[0]:y_[1]] = np.array([1., 0., 0.]).reshape((1, 1, 3))\n",
    "  # tifffile.imwrite(path, (output_images*255).astype('uint8'))\n",
    "  imageio.mimwrite(path, (output_images*255).astype('uint8'))\n",
    "  return"
   ]
  },
  {
   "cell_type": "code",
   "execution_count": null,
   "metadata": {},
   "outputs": [],
   "source": []
  },
  {
   "cell_type": "code",
   "execution_count": 8,
   "metadata": {},
   "outputs": [],
   "source": [
    "### Process Data and Generate Trajectory Summaries ###\n",
    "t_lag = 1\n",
    "bins_PC1 = np.linspace(-4, 6, 15)\n",
    "bins_PC2 = np.linspace(-3, 8, 15)\n",
    "bins_speed = np.linspace(1.0, 5.2, 15) # Log um/h scale\n",
    "\n",
    "traj_PC1 = {well: [] for well in wells}\n",
    "traj_PC2 = {well: [] for well in wells}\n",
    "traj_speed = {well: [] for well in wells}\n",
    "traj_names = {well: [] for well in wells}\n",
    "for t in trajs:\n",
    "    well = t[:2]\n",
    "    if not well in wells:\n",
    "        continue \n",
    "    traj_names[well].append(t)\n",
    "    traj_PC1[well].append(np.mean([dats[well][ind, 0] for ind in traj_inds[t]]))\n",
    "    traj_PC2[well].append(np.mean([dats[well][ind, 1] for ind in traj_inds[t]]))\n",
    "\n",
    "    t_keys = sorted(trajs[t].keys())\n",
    "    dists = []\n",
    "    for t_point in t_keys:\n",
    "        if (t_point + t_lag) in t_keys:\n",
    "            d = np.linalg.norm(traj_positions[t][t_point+t_lag] - \\\n",
    "                               traj_positions[t][t_point], ord=2)\n",
    "            dists.append(d)    \n",
    "    traj_speed[well].append(np.log(np.mean(dists) * 0.325 / 0.1518)) # Unit of pixel(0.325um) per frame(9.11 min) to um per hour"
   ]
  },
  {
   "cell_type": "code",
   "execution_count": 9,
   "metadata": {},
   "outputs": [],
   "source": [
    "### Trajectory averaged PC1, PC2, speed for JUNE data progenitor cells ###\n",
    "traj_PC1_june = {}\n",
    "traj_PC2_june = {}\n",
    "for f, d in zip(june_fs, june_dats_):\n",
    "    if not f[0] in traj_PC1_june:\n",
    "        traj_PC1_june[f[0]] = []\n",
    "        traj_PC2_june[f[0]] = []\n",
    "    traj_PC1_june[f[0]].append(d[0])\n",
    "    traj_PC2_june[f[0]].append(d[1])\n",
    "\n",
    "traj_PC1_june = [np.mean(traj_PC1_june[k]) for k in traj_PC1_june]\n",
    "traj_PC2_june = [np.mean(traj_PC2_june[k]) for k in traj_PC2_june]\n",
    "\n",
    "traj_motions_june = {}\n",
    "for site in sum([['D%d-Site_%d' % (i, j) for j in range(9)] for i in range(3, 6)], []): \n",
    "    nonmg_traj = pickle.load(open(os.path.join(JUNE_DATA_PATH, 'D-supps', site, 'non_mg_traj.pkl'), 'rb'))\n",
    "    for i, (traj, traj_position) in enumerate(zip(*nonmg_traj)):\n",
    "        name = site + '/' + str(i) + '_nonmg'\n",
    "        traj_motions_june[name] = traj_position\n",
    "        \n",
    "traj_speed_june = {}\n",
    "t_lag = 1\n",
    "for t, motion in traj_motions_june.items():\n",
    "    dists = []\n",
    "    t_keys = sorted(motion.keys())\n",
    "    for t_point in t_keys:\n",
    "        if (t_point + t_lag) in t_keys:\n",
    "            d = np.linalg.norm(motion[t_point+t_lag] - \\\n",
    "                               motion[t_point], ord=2)\n",
    "            dists.append(d)    \n",
    "    traj_speed_june[t] = np.log(np.mean(dists) * 0.325 / 0.1518)"
   ]
  },
  {
   "cell_type": "code",
   "execution_count": null,
   "metadata": {},
   "outputs": [],
   "source": []
  },
  {
   "cell_type": "code",
   "execution_count": null,
   "metadata": {},
   "outputs": [],
   "source": []
  },
  {
   "cell_type": "code",
   "execution_count": null,
   "metadata": {},
   "outputs": [],
   "source": []
  },
  {
   "cell_type": "code",
   "execution_count": 26,
   "metadata": {},
   "outputs": [
    {
     "data": {
      "text/plain": [
       "['B4-Site_0/16',\n",
       " 'B4-Site_0/59',\n",
       " 'B4-Site_0/61',\n",
       " 'B4-Site_0/63',\n",
       " 'B4-Site_0/83',\n",
       " 'B4-Site_0/84',\n",
       " 'B4-Site_0/87',\n",
       " 'B4-Site_0/101',\n",
       " 'B4-Site_0/107',\n",
       " 'B4-Site_0/202',\n",
       " 'B4-Site_0/213',\n",
       " 'B4-Site_0/242',\n",
       " 'B4-Site_0/262',\n",
       " 'B4-Site_0/285',\n",
       " 'B4-Site_0/292']"
      ]
     },
     "execution_count": 26,
     "metadata": {},
     "output_type": "execute_result"
    }
   ],
   "source": [
    "[t for t in trajs.keys() if t.startswith('B4-Site_0')]"
   ]
  },
  {
   "cell_type": "code",
   "execution_count": 27,
   "metadata": {},
   "outputs": [
    {
     "name": "stdout",
     "output_type": "stream",
     "text": [
      "B4-Site_0/16\n",
      "B4-Site_0/59\n",
      "B4-Site_0/61\n",
      "B4-Site_0/63\n",
      "B4-Site_0/83\n",
      "B4-Site_0/84\n",
      "B4-Site_0/87\n",
      "B4-Site_0/101\n",
      "B4-Site_0/107\n",
      "B4-Site_0/202\n",
      "B4-Site_0/213\n",
      "B4-Site_0/242\n",
      "B4-Site_0/285\n",
      "B4-Site_0/292\n"
     ]
    }
   ],
   "source": [
    "np.random.seed(123)\n",
    "samples = [t for t in trajs.keys() if t.startswith('B4-Site_0')]\n",
    "for s in samples:\n",
    "    print(s)\n",
    "    save_traj_bbox(s, 'temp/sample_%s.gif' % s.replace('/', '_'))"
   ]
  },
  {
   "cell_type": "code",
   "execution_count": null,
   "metadata": {},
   "outputs": [],
   "source": []
  },
  {
   "cell_type": "code",
   "execution_count": null,
   "metadata": {},
   "outputs": [],
   "source": []
  },
  {
   "cell_type": "code",
   "execution_count": 16,
   "metadata": {},
   "outputs": [
    {
     "name": "stderr",
     "output_type": "stream",
     "text": [
      "The PostScript backend does not support transparency; partially transparent artists will be rendered opaque.\n",
      "The PostScript backend does not support transparency; partially transparent artists will be rendered opaque.\n"
     ]
    },
    {
     "data": {
      "text/plain": [
       "<Figure size 432x288 with 0 Axes>"
      ]
     },
     "metadata": {},
     "output_type": "display_data"
    },
    {
     "data": {
      "image/png": "[encoded data removed]",
      "text/plain": [
       "<Figure size 324x144 with 1 Axes>"
      ]
     },
     "metadata": {
      "needs_background": "light"
     },
     "output_type": "display_data"
    }
   ],
   "source": [
    "plt.clf()\n",
    "f = plt.figure(figsize=(4.5, 2))\n",
    "for well in wells_:\n",
    "    freqs, bins = np.histogram(traj_PC1[well], bins=bins_PC1)\n",
    "    freqs = freqs/freqs.sum()\n",
    "    x = (bins[:-1] + bins[1:])/2\n",
    "    plt.plot(x, freqs, '--', c=colors[well], label=legends[well]) \n",
    "    \n",
    "# freqs, bins = np.histogram(traj_PC1_june, bins=bins_PC1)\n",
    "# freqs = freqs/freqs.sum()\n",
    "# x = (bins[:-1] + bins[1:])/2\n",
    "# plt.plot(x, freqs, c='k', label='June batch')\n",
    "\n",
    "plt.xlabel(\"\")\n",
    "plt.ylabel(\"\")\n",
    "plt.legend()\n",
    "plt.grid(b=False, which='major', axis='x')\n",
    "plt.tight_layout()\n",
    "plt.savefig('temp/NOVEMBER_nonmg_PC1.eps')\n",
    "plt.savefig('temp/NOVEMBER_nonmg_PC1.png', dpi=300)\n"
   ]
  },
  {
   "cell_type": "code",
   "execution_count": 17,
   "metadata": {},
   "outputs": [
    {
     "name": "stderr",
     "output_type": "stream",
     "text": [
      "The PostScript backend does not support transparency; partially transparent artists will be rendered opaque.\n",
      "The PostScript backend does not support transparency; partially transparent artists will be rendered opaque.\n"
     ]
    },
    {
     "data": {
      "text/plain": [
       "<Figure size 432x288 with 0 Axes>"
      ]
     },
     "metadata": {},
     "output_type": "display_data"
    },
    {
     "data": {
      "image/png": "[encoded data removed]",
      "text/plain": [
       "<Figure size 324x144 with 1 Axes>"
      ]
     },
     "metadata": {
      "needs_background": "light"
     },
     "output_type": "display_data"
    }
   ],
   "source": [
    "plt.clf()\n",
    "f = plt.figure(figsize=(4.5, 2))\n",
    "for well in wells_:\n",
    "    freqs, bins = np.histogram(traj_PC2[well], bins=bins_PC2)\n",
    "    freqs = freqs/freqs.sum()\n",
    "    x = (bins[:-1] + bins[1:])/2\n",
    "    plt.plot(x, freqs, '--', c=colors[well], label=legends[well])\n",
    "\n",
    "# freqs, bins = np.histogram(traj_PC2_june, bins=bins_PC2)\n",
    "# freqs = freqs/freqs.sum()\n",
    "# x = (bins[:-1] + bins[1:])/2\n",
    "# plt.plot(x, freqs, c='k', label='June batch')\n",
    "\n",
    "plt.xlabel(\"\")\n",
    "plt.ylabel(\"\")\n",
    "plt.legend()\n",
    "plt.grid(b=False, which='major', axis='x')\n",
    "plt.tight_layout()\n",
    "plt.savefig('temp/NOVEMBER_nonmg_PC2.eps')\n",
    "plt.savefig('temp/NOVEMBER_nonmg_PC2.png', dpi=300)\n"
   ]
  },
  {
   "cell_type": "code",
   "execution_count": 19,
   "metadata": {},
   "outputs": [
    {
     "name": "stderr",
     "output_type": "stream",
     "text": [
      "The PostScript backend does not support transparency; partially transparent artists will be rendered opaque.\n",
      "The PostScript backend does not support transparency; partially transparent artists will be rendered opaque.\n"
     ]
    },
    {
     "data": {
      "text/plain": [
       "<Figure size 432x288 with 0 Axes>"
      ]
     },
     "metadata": {},
     "output_type": "display_data"
    },
    {
     "data": {
      "image/png": "[encoded data removed]",
      "text/plain": [
       "<Figure size 324x144 with 1 Axes>"
      ]
     },
     "metadata": {
      "needs_background": "light"
     },
     "output_type": "display_data"
    }
   ],
   "source": [
    "plt.clf()\n",
    "f = plt.figure(figsize=(4.5, 2))\n",
    "for well in wells_:\n",
    "    freqs, bins = np.histogram(traj_speed[well], bins=bins_speed)\n",
    "    freqs = freqs/freqs.sum()\n",
    "    x = (bins[:-1] + bins[1:])/2\n",
    "    plt.plot(x, freqs, '--', c=colors[well], label=legends[well])\n",
    "\n",
    "# freqs, bins = np.histogram(list(traj_speed_june.values()), bins=bins_speed)\n",
    "# freqs = freqs/freqs.sum()\n",
    "# x = (bins[:-1] + bins[1:])/2\n",
    "# plt.plot(x, freqs, c='k', label='June batch')\n",
    "\n",
    "plt.xlabel(\"\")\n",
    "plt.ylabel(\"\")\n",
    "plt.legend()\n",
    "plt.grid(b=False, which='major', axis='x')\n",
    "speed_ticks = [4., 8., 16., 32., 64., 128.]\n",
    "plt.gca().set_xticks(np.log(speed_ticks))\n",
    "plt.gca().set_xticklabels(speed_ticks)\n",
    "plt.tight_layout()\n",
    "plt.savefig('temp/NOVEMBER_nonmg_speed.eps')\n",
    "plt.savefig('temp/NOVEMBER_nonmg_speed.png', dpi=300)\n",
    "\n"
   ]
  },
  {
   "cell_type": "code",
   "execution_count": null,
   "metadata": {},
   "outputs": [],
   "source": []
  },
  {
   "cell_type": "code",
   "execution_count": null,
   "metadata": {},
   "outputs": [],
   "source": []
  },
  {
   "cell_type": "code",
   "execution_count": 20,
   "metadata": {},
   "outputs": [],
   "source": [
    "### GMM to multiple states ###\n",
    "t_lag = 1\n",
    "mg_traj_properties = {}\n",
    "X = []\n",
    "Y = []\n",
    "mg_t_arrays = []\n",
    "for t in mg_trajs:\n",
    "    well = t[:2]\n",
    "    if not well in wells_:\n",
    "        continue\n",
    "    t_keys = sorted(mg_trajs[t].keys())\n",
    "    dists = []\n",
    "    for t_point in t_keys:\n",
    "        if (t_point + t_lag) in t_keys:\n",
    "            d = np.linalg.norm(mg_traj_positions[t][t_point+t_lag] - \\\n",
    "                               mg_traj_positions[t][t_point], ord=2)\n",
    "            dists.append(d)\n",
    "        \n",
    "    mg_traj_PC = [dats[well][ind] for ind in mg_traj_inds[t]]\n",
    "    mg_traj_dist = dists\n",
    "    mg_traj_properties[t] = (mg_traj_PC, mg_traj_dist)\n",
    "    X.append(np.concatenate([np.array(np.log(np.mean(mg_traj_dist) * 0.325 / 0.1518)).reshape((-1,)), np.mean(mg_traj_PC, 0)]))\n",
    "    Y.append(sorted(wells_).index(well))\n",
    "    mg_t_arrays.append(t)\n",
    "    \n",
    "mg_X = np.array(X)\n",
    "mg_Y = np.array(Y)\n",
    "std_unit = np.std(X, 0)\n",
    "std_unit = np.clip(std_unit, 0.6, 10.)\n",
    "# std_unit[1:] = np.clip(std_unit[1:], std_unit[1], 10.)"
   ]
  },
  {
   "cell_type": "code",
   "execution_count": 21,
   "metadata": {},
   "outputs": [],
   "source": [
    "### Non-MG cell properties ###\n",
    "t_lag = 1\n",
    "nonmg_traj_properties = {}\n",
    "X = []\n",
    "Y = []\n",
    "t_arrays = []\n",
    "for t in trajs:\n",
    "    well = t[:2]\n",
    "    if not well in wells_:\n",
    "        continue\n",
    "    t_keys = sorted(trajs[t].keys())\n",
    "    dists = []\n",
    "    for t_point in t_keys:\n",
    "        if (t_point + t_lag) in t_keys:\n",
    "            d = np.linalg.norm(traj_positions[t][t_point+t_lag] - \\\n",
    "                               traj_positions[t][t_point], ord=2)\n",
    "            dists.append(d)\n",
    "        \n",
    "    traj_PC = [dats[well][ind] for ind in traj_inds[t]]\n",
    "    traj_dist = dists\n",
    "    nonmg_traj_properties[t] = (traj_PC, traj_dist)\n",
    "    X.append(np.concatenate([np.array(np.log(np.mean(traj_dist) * 0.325 / 0.1518)).reshape((-1,)), np.mean(traj_PC, 0)]))\n",
    "    Y.append(sorted(wells_).index(well))\n",
    "    t_arrays.append(t)\n",
    "    \n",
    "X = np.array(X)\n",
    "Y = np.array(Y)"
   ]
  },
  {
   "cell_type": "code",
   "execution_count": null,
   "metadata": {},
   "outputs": [],
   "source": []
  },
  {
   "cell_type": "code",
   "execution_count": 22,
   "metadata": {},
   "outputs": [],
   "source": [
    "### Calculate Cell Motion Directions ###\n",
    "\n",
    "cell_aps = pickle.load(open(os.path.join(raw_folder, 'all_patches_cell_aspect_ratios.pkl'), 'rb'))\n",
    "traj_orientations = {}\n",
    "traj_orientations2 = {}\n",
    "traj_orientation_stds = {}\n",
    "patch_orientations = {}\n",
    "patch_displacements = {}\n",
    "t_lag = 1\n",
    "\n",
    "angs1_all = []\n",
    "angs2_all = []\n",
    "ang_diffs_all = []\n",
    "for t in traj_inds:\n",
    "    well = t[:2]\n",
    "    traj_fs = [fs[well][ind] for ind in traj_inds[t]]\n",
    "    t_keys = sorted(trajs[t].keys())\n",
    "    \n",
    "    valid_fs = []\n",
    "    ds = []\n",
    "    d_angs = []\n",
    "    for i, f in enumerate(traj_fs):\n",
    "        t_point = t_keys[i]\n",
    "        if (t_point + t_lag) in t_keys:\n",
    "            d = np.linalg.norm(traj_positions[t][t_point+t_lag] - \\\n",
    "                               traj_positions[t][t_point], ord=2)\n",
    "            d_ang = traj_positions[t][t_point+t_lag] - traj_positions[t][t_point]\n",
    "            d_ang = cmath.polar(complex(d_ang[1], d_ang[0]))[1]\n",
    "            valid_fs.append(f)\n",
    "            ds.append(d)\n",
    "            d_angs.append(d_ang)\n",
    "\n",
    "    traj_cell_aps = [cell_aps[f][0] for f in valid_fs]\n",
    "    traj_cell_angs = [cell_aps[f][1] for f in valid_fs]\n",
    "\n",
    "    angs1 = [a for i, a in enumerate(d_angs) if traj_cell_aps[i] > 1.1] # Orientation of movement, 0 ~ 2pi\n",
    "    angs2 = [a for i, a in enumerate(traj_cell_angs) if traj_cell_aps[i] > 1.1]\n",
    "    angs2 = [a if a > 0 else a + np.pi for a in angs2] # Orientation of cell long axis, 0~pi\n",
    "    angs1_all.extend(angs1)\n",
    "    angs2_all.extend(angs2)\n",
    "    ds = [d for i, d in enumerate(ds) if traj_cell_aps[i] > 1.1]\n",
    "    valid_fs_ = [f for i, f in enumerate(valid_fs) if traj_cell_aps[i] > 1.1]\n",
    "    if len(angs1) <= 2:\n",
    "        continue\n",
    "    \n",
    "    ang_diffs = [(a1 - a2)%(np.pi) for a1, a2 in zip(angs1, angs2)]\n",
    "    #ang_diffs = [a if a < np.pi/2 else a - np.pi for a in ang_diffs]\n",
    "    ang_diffs_all.extend(ang_diffs)\n",
    "    for f, a in zip(valid_fs_, ang_diffs):\n",
    "        patch_orientations[f] = a\n",
    "    for f, d in zip(valid_fs_, ds):\n",
    "        patch_displacements[f] = d\n",
    "    \n",
    "    # Pool angles along the traj\n",
    "    merged_x = sum([d * np.cos(2 * ang) for d, ang in zip(ds, ang_diffs)])\n",
    "    merged_y = sum([d * np.sin(2 * ang) for d, ang in zip(ds, ang_diffs)])\n",
    "    merged_d, merged_ang_diff = cmath.polar(complex(merged_x, merged_y))\n",
    "    \n",
    "    assert np.allclose(merged_d, np.sqrt(merged_x**2 + merged_y**2))\n",
    "    traj_orientations[t] = merged_ang_diff / 2\n",
    "    traj_orientations2[t] = np.arctan(merged_y/merged_x) / 2\n",
    "    traj_orientation_stds[t] = merged_d/sum(ds)\n"
   ]
  },
  {
   "cell_type": "code",
   "execution_count": 23,
   "metadata": {},
   "outputs": [],
   "source": [
    "### Calculate Cell Motion Directions ###\n",
    "\n",
    "cell_aps = pickle.load(open(os.path.join(raw_folder, 'all_patches_cell_aspect_ratios.pkl'), 'rb'))\n",
    "mg_traj_orientations = {}\n",
    "mg_traj_orientations2 = {}\n",
    "mg_traj_orientation_stds = {}\n",
    "patch_orientations = {}\n",
    "patch_displacements = {}\n",
    "t_lag = 1\n",
    "\n",
    "angs1_all = []\n",
    "angs2_all = []\n",
    "ang_diffs_all = []\n",
    "for t in mg_traj_inds:\n",
    "    well = t[:2]\n",
    "    mg_traj_fs = [fs[well][ind] for ind in mg_traj_inds[t]]\n",
    "    t_keys = sorted(mg_trajs[t].keys())\n",
    "    \n",
    "    valid_fs = []\n",
    "    ds = []\n",
    "    d_angs = []\n",
    "    for i, f in enumerate(mg_traj_fs):\n",
    "        t_point = t_keys[i]\n",
    "        if (t_point + t_lag) in t_keys:\n",
    "            d = np.linalg.norm(mg_traj_positions[t][t_point+t_lag] - \\\n",
    "                               mg_traj_positions[t][t_point], ord=2)\n",
    "            d_ang = mg_traj_positions[t][t_point+t_lag] - mg_traj_positions[t][t_point]\n",
    "            d_ang = cmath.polar(complex(d_ang[1], d_ang[0]))[1]\n",
    "            valid_fs.append(f)\n",
    "            ds.append(d)\n",
    "            d_angs.append(d_ang)\n",
    "\n",
    "    mg_traj_cell_aps = [cell_aps[f][0] for f in valid_fs]\n",
    "    mg_traj_cell_angs = [cell_aps[f][1] for f in valid_fs]\n",
    "\n",
    "    angs1 = [a for i, a in enumerate(d_angs) if mg_traj_cell_aps[i] > 1.1] # Orientation of movement, 0 ~ 2pi\n",
    "    angs2 = [a for i, a in enumerate(mg_traj_cell_angs) if mg_traj_cell_aps[i] > 1.1]\n",
    "    angs2 = [a if a > 0 else a + np.pi for a in angs2] # Orientation of cell long axis, 0~pi\n",
    "    angs1_all.extend(angs1)\n",
    "    angs2_all.extend(angs2)\n",
    "    ds = [d for i, d in enumerate(ds) if mg_traj_cell_aps[i] > 1.1]\n",
    "    valid_fs_ = [f for i, f in enumerate(valid_fs) if mg_traj_cell_aps[i] > 1.1]\n",
    "    if len(angs1) <= 2:\n",
    "        continue\n",
    "    \n",
    "    ang_diffs = [(a1 - a2)%(np.pi) for a1, a2 in zip(angs1, angs2)]\n",
    "    #ang_diffs = [a if a < np.pi/2 else a - np.pi for a in ang_diffs]\n",
    "    ang_diffs_all.extend(ang_diffs)\n",
    "    for f, a in zip(valid_fs_, ang_diffs):\n",
    "        patch_orientations[f] = a\n",
    "    for f, d in zip(valid_fs_, ds):\n",
    "        patch_displacements[f] = d\n",
    "    \n",
    "    # Pool angles along the traj\n",
    "    merged_x = sum([d * np.cos(2 * ang) for d, ang in zip(ds, ang_diffs)])\n",
    "    merged_y = sum([d * np.sin(2 * ang) for d, ang in zip(ds, ang_diffs)])\n",
    "    merged_d, merged_ang_diff = cmath.polar(complex(merged_x, merged_y))\n",
    "    \n",
    "    assert np.allclose(merged_d, np.sqrt(merged_x**2 + merged_y**2))\n",
    "    mg_traj_orientations[t] = merged_ang_diff / 2\n",
    "    mg_traj_orientations2[t] = np.arctan(merged_y/merged_x) / 2\n",
    "    mg_traj_orientation_stds[t] = merged_d/sum(ds)\n"
   ]
  },
  {
   "cell_type": "code",
   "execution_count": 25,
   "metadata": {},
   "outputs": [
    {
     "name": "stderr",
     "output_type": "stream",
     "text": [
      "The PostScript backend does not support transparency; partially transparent artists will be rendered opaque.\n",
      "The PostScript backend does not support transparency; partially transparent artists will be rendered opaque.\n"
     ]
    },
    {
     "data": {
      "text/plain": [
       "<Figure size 432x288 with 0 Axes>"
      ]
     },
     "metadata": {},
     "output_type": "display_data"
    },
    {
     "data": {
      "image/png": "[encoded data removed]",
      "text/plain": [
       "<Figure size 252x216 with 1 Axes>"
      ]
     },
     "metadata": {
      "needs_background": "light"
     },
     "output_type": "display_data"
    }
   ],
   "source": [
    "speed_ticks = [4., 8., 16., 32., 64., 128.]\n",
    "\n",
    "plt.clf()\n",
    "f = plt.figure(figsize=(3.5, 3))\n",
    "\n",
    "random_selected_inds = np.random.choice(np.arange(len(mg_X)), (400,), replace=False)\n",
    "for i in random_selected_inds:\n",
    "    t = mg_t_arrays[i]\n",
    "    merged_ang_diff = mg_traj_orientations[t]\n",
    "    merged_d = np.exp(mg_X[i, 0])/200\n",
    "    #merged_d = (1 - traj_orientation_stds[t])/2 # Longer marker indicates more consistent movement (smaller circular SD)\n",
    "    arrow_vec = (merged_d * np.sin(merged_ang_diff), merged_d * np.cos(merged_ang_diff))\n",
    "    x_center = mg_X[i, 1]\n",
    "    y_center = mg_X[i, 2]\n",
    "    dx = arrow_vec[0]\n",
    "    dy = arrow_vec[1]\n",
    "    x = x_center - dx/2\n",
    "    y = y_center - dy/2\n",
    "    plt.arrow(x, y, dx, dy, color=(0.3, 0.3, 0.3), width=0.005, head_width=0.)\n",
    "\n",
    "random_selected_inds = np.random.choice(np.arange(len(X)), (50,), replace=False)\n",
    "for i in random_selected_inds:\n",
    "    t = t_arrays[i]\n",
    "    if not t in traj_orientations:\n",
    "        continue\n",
    "    merged_ang_diff = traj_orientations[t]\n",
    "    merged_d = np.exp(X[i, 0])/200\n",
    "    #merged_d = (1 - traj_orientation_stds[t])/2 # Longer marker indicates more consistent movement (smaller circular SD)\n",
    "    arrow_vec = (merged_d * np.sin(merged_ang_diff), merged_d * np.cos(merged_ang_diff))\n",
    "    x_center = X[i, 1]\n",
    "    y_center = X[i, 2]\n",
    "    dx = arrow_vec[0]\n",
    "    dy = arrow_vec[1]\n",
    "    x = x_center - dx/2\n",
    "    y = y_center - dy/2\n",
    "    plt.arrow(x, y, dx, dy, color='r', width=0.005, head_width=0.)\n",
    "\n",
    "plt.xlabel(\"\")\n",
    "plt.ylabel(\"\")\n",
    "plt.xlim(-5, 7)\n",
    "plt.ylim(-3, 9)\n",
    "\n",
    "import matplotlib.patches as mpatches\n",
    "plt.plot([-10], [-1], '|', color=(0.3, 0.3, 0.3), label='Microglia')\n",
    "plt.plot([-10], [-1], '|', color='r', label='Progenitor')\n",
    "plt.legend()\n",
    "\n",
    "plt.savefig('temp/NOVEMBER_mg_nonmg_PC12.eps')\n",
    "plt.savefig('temp/NOVEMBER_mg_nonmg_PC12.png', dpi=300)"
   ]
  },
  {
   "cell_type": "code",
   "execution_count": null,
   "metadata": {},
   "outputs": [],
   "source": []
  },
  {
   "cell_type": "code",
   "execution_count": null,
   "metadata": {},
   "outputs": [],
   "source": []
  },
  {
   "cell_type": "code",
   "execution_count": null,
   "metadata": {},
   "outputs": [],
   "source": [
    "### UMAP of morphodynamic features ###\n",
    "import umap\n",
    "import matplotlib.pyplot as plt\n",
    "import pickle\n",
    "n = 10\n",
    "d = 0.1\n",
    "mg_X_ = mg_X/std_unit\n",
    "X_ = X/std_unit\n",
    "combined_X_ = np.concatenate([mg_X_, X_], 0)\n",
    "reducer = umap.UMAP(n_neighbors=n, min_dist=d)\n",
    "embedding = reducer.fit_transform(combined_X_)"
   ]
  },
  {
   "cell_type": "code",
   "execution_count": null,
   "metadata": {},
   "outputs": [],
   "source": [
    "embedding_mg = embedding[:len(mg_X_)]\n",
    "embedding_nonmg = embedding[len(mg_X_):]"
   ]
  },
  {
   "cell_type": "code",
   "execution_count": null,
   "metadata": {},
   "outputs": [],
   "source": [
    "from scipy.stats import gaussian_kde\n",
    "def density_estimation(m1, m2):\n",
    "    xmin, xmax = m1.min()-0.5, m1.max()+0.5\n",
    "    ymin, ymax = m2.min()-0.5, m2.max()+0.5\n",
    "    xint = (xmax - xmin) / 100\n",
    "    yint = (ymax - ymin) / 100\n",
    "    X, Y = np.mgrid[xmin:xmax:xint, ymin:ymax:yint]\n",
    "    positions = np.stack([X.ravel(), Y.ravel()], 0)\n",
    "    values = np.stack([m1, m2], 0)\n",
    "    kernel = gaussian_kde(values)\n",
    "    Z = np.reshape(kernel(positions), X.shape)\n",
    "    return X, Y, Z\n",
    "\n",
    "m1, m2 = embedding_mg[:, 0], embedding_mg[:, 1]\n",
    "cont_X, cont_Y, cont_Z = density_estimation(m1, m2)\n",
    "xmin, xmax = m1.min()-0.5, m1.max()+0.5\n",
    "ymin, ymax = m2.min()-0.5, m2.max()+0.5\n",
    "\n",
    "plt.clf()\n",
    "f = plt.figure(figsize=(4, 3))\n",
    "\n",
    "selected_inds = np.random.choice(np.arange(len(embedding_mg)), (1000,), replace=False)\n",
    "plt.plot(embedding_mg[selected_inds][:, 0], \n",
    "         embedding_mg[selected_inds][:, 1], \n",
    "         '.',\n",
    "         c=(0.3, 0.3, 0.3), \n",
    "         markersize=3.,\n",
    "         label='Microglia')\n",
    "plt.plot(embedding_nonmg[:, 0], \n",
    "         embedding_nonmg[:, 1], \n",
    "         '.',\n",
    "         c='r', \n",
    "         markersize=3.,\n",
    "         label='Progenitor')\n",
    "plt.contourf(cont_X, cont_Y, cont_Z>cont_Z.max()*0.15, levels=1, colors=[(1., 1., 1.), (0.95, 0.95, 0.95)])\n",
    "plt.xlim(xmin-0.5, xmax+0.5)\n",
    "plt.ylim(ymin-0.5, ymax+0.5)\n",
    "plt.legend()\n",
    "plt.savefig('temp/NOVEMBER_mg_nonmg_umap.eps')\n",
    "plt.savefig('temp/NOVEMBER_mg_nonmg_umap.png', dpi=300)"
   ]
  },
  {
   "cell_type": "code",
   "execution_count": null,
   "metadata": {},
   "outputs": [],
   "source": []
  },
  {
   "cell_type": "code",
   "execution_count": null,
   "metadata": {},
   "outputs": [],
   "source": []
  }
 ],
 "metadata": {
  "kernelspec": {
   "display_name": "Python 3",
   "language": "python",
   "name": "python3"
  },
  "language_info": {
   "codemirror_mode": {
    "name": "ipython",
    "version": 3
   },
   "file_extension": ".py",
   "mimetype": "text/x-python",
   "name": "python",
   "nbconvert_exporter": "python",
   "pygments_lexer": "ipython3",
   "version": "3.6.3"
  }
 },
 "nbformat": 4,
 "nbformat_minor": 4
}
